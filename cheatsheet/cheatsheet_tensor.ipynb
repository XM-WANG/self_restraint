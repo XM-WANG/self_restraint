{
 "cells": [
  {
   "cell_type": "markdown",
   "metadata": {},
   "source": [
    "## Tensor / Array Operation\n",
    "\n",
    "Tensor related cheat sheet."
   ]
  },
  {
   "cell_type": "markdown",
   "metadata": {},
   "source": [
    "### numpy.concatenate()"
   ]
  },
  {
   "cell_type": "code",
   "execution_count": 2,
   "metadata": {},
   "outputs": [
    {
     "name": "stdout",
     "output_type": "stream",
     "text": [
      "(10, 20, 8)\n"
     ]
    }
   ],
   "source": [
    "import numpy as np\n",
    "\n",
    "feat_1 = np.random.rand(10,20,3)\n",
    "feat_2 = np.random.rand(10,20,5)\n",
    "feat = np.concatenate([feat_1,feat_2], axis=2)\n",
    "print(feat.shape)"
   ]
  },
  {
   "cell_type": "markdown",
   "metadata": {},
   "source": [
    "### numpy.transpose()"
   ]
  },
  {
   "cell_type": "code",
   "execution_count": 4,
   "metadata": {},
   "outputs": [
    {
     "data": {
      "text/plain": [
       "(2, 1, 3)"
      ]
     },
     "execution_count": 4,
     "metadata": {},
     "output_type": "execute_result"
    }
   ],
   "source": [
    "import numpy as np\n",
    "feat1 = np.random.rand(1, 2, 3)\n",
    "feat2 = np.transpose(feat1, (1, 0, 2))\n",
    "feat2.shape"
   ]
  },
  {
   "cell_type": "markdown",
   "metadata": {},
   "source": [
    "### torch.cat()"
   ]
  },
  {
   "cell_type": "code",
   "execution_count": 1,
   "metadata": {},
   "outputs": [
    {
     "data": {
      "text/plain": [
       "torch.Size([10, 20, 8])"
      ]
     },
     "execution_count": 1,
     "metadata": {},
     "output_type": "execute_result"
    }
   ],
   "source": [
    "import torch\n",
    "\n",
    "feat_1 = torch.rand(10,20,3)\n",
    "feat_2 = torch.rand(10,20,5)\n",
    "feat = torch.cat([feat_1,feat_2], axis=2)\n",
    "print(feat.shape)"
   ]
  },
  {
   "cell_type": "markdown",
   "metadata": {},
   "source": [
    "### 2. torch.transpose()"
   ]
  },
  {
   "cell_type": "code",
   "execution_count": 13,
   "metadata": {},
   "outputs": [
    {
     "name": "stdout",
     "output_type": "stream",
     "text": [
      "Before: torch.Size([0, 1, 2, 3])\n",
      "After:  torch.Size([2, 1, 0, 3])\n",
      "After:  torch.Size([2, 1, 0, 3])\n"
     ]
    }
   ],
   "source": [
    "import torch\n",
    "\n",
    "# tensor.transpose()\n",
    "feat = torch.rand(0, 1, 2, 3)\n",
    "feat_T1 = feat.transpose(0, 2)\n",
    "print(f\"Before: {feat.shape}\\nAfter:  {feat_T1.shape}\")\n",
    "\n",
    "# torch.transpose()\n",
    "feat_T2 = torch.transpose(feat,0,2)\n",
    "print(f\"After:  {feat_T1.shape}\")"
   ]
  },
  {
   "cell_type": "code",
   "execution_count": null,
   "metadata": {},
   "outputs": [],
   "source": []
  },
  {
   "cell_type": "code",
   "execution_count": null,
   "metadata": {},
   "outputs": [],
   "source": []
  },
  {
   "cell_type": "code",
   "execution_count": null,
   "metadata": {},
   "outputs": [],
   "source": []
  }
 ],
 "metadata": {
  "interpreter": {
   "hash": "ca6220286bd2e6e9f8981e7b10a2a89cb6747f8deb01329791f5291749718a9e"
  },
  "kernelspec": {
   "display_name": "Python 3.8.10 64-bit ('3090': conda)",
   "language": "python",
   "name": "python3"
  },
  "language_info": {
   "codemirror_mode": {
    "name": "ipython",
    "version": 3
   },
   "file_extension": ".py",
   "mimetype": "text/x-python",
   "name": "python",
   "nbconvert_exporter": "python",
   "pygments_lexer": "ipython3",
   "version": "3.8.10"
  },
  "orig_nbformat": 4
 },
 "nbformat": 4,
 "nbformat_minor": 2
}
