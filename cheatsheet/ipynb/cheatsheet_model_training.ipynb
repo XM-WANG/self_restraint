{
 "cells": [
  {
   "cell_type": "markdown",
   "metadata": {},
   "source": [
    "## Model & Training\n",
    "\n",
    "Model and training related cheat sheet.\n",
    "\n",
    "### 1. Torch model\n",
    "The functions / classes introduced in this cheatsheet are model related. Hence, we first build a simple torch model."
   ]
  },
  {
   "cell_type": "code",
   "execution_count": 10,
   "metadata": {},
   "outputs": [
    {
     "data": {
      "text/plain": [
       "torch.Size([10, 1])"
      ]
     },
     "execution_count": 10,
     "metadata": {},
     "output_type": "execute_result"
    }
   ],
   "source": [
    "import torch\n",
    "import torch.nn as nn\n",
    "\n",
    "class WzzModel(nn.Module):\n",
    "    def __init__(self,config):\n",
    "        super(WzzModel, self).__init__()\n",
    "        self.config = config\n",
    "        self.input_layer = nn.Linear(self.config['input_size'],self.config['hidden_size'], bias=False)\n",
    "        self.output_layer = nn.Linear(self.config['hidden_size'],self.config['output_size'])\n",
    "    def forward(self, feat):\n",
    "        output = self.input_layer(feat)\n",
    "        output = self.output_layer(output)\n",
    "        return output\n",
    "        \n",
    "config = dict(input_size=3, hidden_size=5, output_size=1)\n",
    "model = WzzModel(config)\n",
    "\n",
    "feat = torch.rand(10,3)\n",
    "output = model(feat)\n",
    "output.shape"
   ]
  },
  {
   "cell_type": "markdown",
   "metadata": {},
   "source": [
    "### 2. clip_grad_norm_()\n",
    "\n",
    "Clip the gradient in case of gradient exploding."
   ]
  },
  {
   "cell_type": "code",
   "execution_count": 11,
   "metadata": {},
   "outputs": [
    {
     "data": {
      "text/plain": [
       "tensor(0.)"
      ]
     },
     "execution_count": 11,
     "metadata": {},
     "output_type": "execute_result"
    }
   ],
   "source": [
    "import torch.nn as nn\n",
    "\n",
    "# loss.backward()\n",
    "nn.utils.clip_grad_norm_(model.parameters(), 1)\n",
    "# optimizer.step()"
   ]
  },
  {
   "cell_type": "markdown",
   "metadata": {},
   "source": [
    "### 3. torch.save\n",
    "\n",
    "Save the parameters of well-trained model into the local file. \n",
    "- `model.state_dict()`: Only saving the parameters.\n",
    "- Remove `model.state_dict()` to save the whole model but consumes more storage."
   ]
  },
  {
   "cell_type": "code",
   "execution_count": 12,
   "metadata": {},
   "outputs": [],
   "source": [
    "import torch\n",
    "\n",
    "model_path = \"./model.pkl\"\n",
    "torch.save(model.state_dict(), model_path)"
   ]
  },
  {
   "cell_type": "markdown",
   "metadata": {},
   "source": [
    "### 4. load_state_dic() & torch.load()\n",
    "\n",
    "Load trained parameters. \n",
    "- `torch.load()`: Load the parameters / model from local file.\n",
    "- `model.load_state_dict()` assign parameters to the model.\n",
    "- Remark: make sure what is saved in the local file."
   ]
  },
  {
   "cell_type": "code",
   "execution_count": 13,
   "metadata": {},
   "outputs": [
    {
     "data": {
      "text/plain": [
       "<All keys matched successfully>"
      ]
     },
     "execution_count": 13,
     "metadata": {},
     "output_type": "execute_result"
    }
   ],
   "source": [
    "import torch\n",
    "\n",
    "model_path = \"./model.pkl\"\n",
    "params = torch.load(model_path, map_location='cpu')\n",
    "model.load_state_dict(params, strict=True)"
   ]
  },
  {
   "cell_type": "code",
   "execution_count": null,
   "metadata": {},
   "outputs": [],
   "source": [
    "import argparse\n",
    "\n",
    "parser = argparse.ArgumentParser()\n",
    "parser.add_argument('-lr', '--learning_rate', type=float, default=1e-5)\n",
    "parser.add_argument('--with-pretrained', dest=\"pretrained\", action='store_true')\n",
    "parser.add_argument('--no-pretrained', dest=\"pretrained\", action='store_false')\n",
    "parser.set_defaults(pretrained=False)\n",
    "args = parser.parse_args()"
   ]
  }
 ],
 "metadata": {
  "interpreter": {
   "hash": "ca6220286bd2e6e9f8981e7b10a2a89cb6747f8deb01329791f5291749718a9e"
  },
  "kernelspec": {
   "display_name": "Python 3.8.10 64-bit ('3090': conda)",
   "language": "python",
   "name": "python3"
  },
  "language_info": {
   "name": "python",
   "version": "3.8.10"
  },
  "orig_nbformat": 4
 },
 "nbformat": 4,
 "nbformat_minor": 2
}
