{
 "cells": [
  {
   "cell_type": "markdown",
   "metadata": {},
   "source": [
    "## Date Pipe\n",
    "Data related cheat sheet.\n",
    "\n",
    "### 1. TensorDataset & DataLoader\n",
    "Given some `numpy.array`, build a `DataLoader` for torch model."
   ]
  },
  {
   "cell_type": "code",
   "execution_count": 2,
   "metadata": {},
   "outputs": [
    {
     "name": "stdout",
     "output_type": "stream",
     "text": [
      "torch.Size([3, 20, 30]) torch.Size([3, 20, 30]) torch.Size([3])\n"
     ]
    }
   ],
   "source": [
    "# Dependency\n",
    "from torch.utils.data import DataLoader,TensorDataset\n",
    "import torch\n",
    "import numpy as np\n",
    "# Key\n",
    "input_ids, attention_mask, labels = np.random.rand(10,20,30),np.random.rand(10,20,30),np.random.rand(10)\n",
    "trainingDataset = TensorDataset(torch.from_numpy(input_ids),torch.from_numpy(attention_mask),torch.from_numpy(labels))\n",
    "trainingDataloader = DataLoader(trainingDataset,batch_size=3,shuffle=True)\n",
    "# Demo\n",
    "for input_ids, attention_mask, labels in trainingDataloader:\n",
    "    print(input_ids.shape, attention_mask.shape, labels.shape)\n",
    "    break"
   ]
  },
  {
   "cell_type": "markdown",
   "metadata": {},
   "source": [
    "### 2. train_test_split\n",
    "Split data into training set and evaluation set."
   ]
  },
  {
   "cell_type": "code",
   "execution_count": 3,
   "metadata": {},
   "outputs": [
    {
     "name": "stdout",
     "output_type": "stream",
     "text": [
      "(8, 20, 30) (2, 20, 30) (8, 2) (2, 2) (8,) (2,)\n"
     ]
    }
   ],
   "source": [
    "import numpy as np\n",
    "from sklearn.model_selection import train_test_split\n",
    "\n",
    "feat1, feat2, feat3 = np.random.rand(10,20,30),np.random.rand(10,2),np.random.rand(10)\n",
    "split_features = train_test_split(feat1, feat2, feat3, test_size=0.2, random_state = 42)\n",
    "f1_train, f1_test,f2_train, f2_test,f3_train, f3_test = split_features\n",
    "print(f1_train.shape, f1_test.shape, f2_train.shape, f2_test.shape, f3_train.shape, f3_test.shape)"
   ]
  },
  {
   "cell_type": "code",
   "execution_count": null,
   "metadata": {},
   "outputs": [],
   "source": []
  }
 ],
 "metadata": {
  "interpreter": {
   "hash": "ca6220286bd2e6e9f8981e7b10a2a89cb6747f8deb01329791f5291749718a9e"
  },
  "kernelspec": {
   "display_name": "Python 3.8.10 64-bit ('3090': conda)",
   "language": "python",
   "name": "python3"
  },
  "language_info": {
   "codemirror_mode": {
    "name": "ipython",
    "version": 3
   },
   "file_extension": ".py",
   "mimetype": "text/x-python",
   "name": "python",
   "nbconvert_exporter": "python",
   "pygments_lexer": "ipython3",
   "version": "3.8.10"
  },
  "orig_nbformat": 4
 },
 "nbformat": 4,
 "nbformat_minor": 2
}
